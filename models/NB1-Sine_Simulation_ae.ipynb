{
 "cells": [
  {
   "cell_type": "code",
   "execution_count": 49,
   "metadata": {
    "collapsed": true
   },
   "outputs": [],
   "source": [
    "# Step 1 Load Dataset and Import Libraries\n",
    "# ----------------------------------------------\n",
    "\n",
    "import pandas as pd\n",
    "import os\n",
    "import matplotlib.pyplot as plt\n",
    "import math\n",
    "import numpy as np\n",
    "import statistics\n",
    "from keras.layers import Input, Dense, Dropout\n",
    "from keras.layers import Dense\n",
    "from keras.models import Model, load_model"
   ]
  },
  {
   "cell_type": "code",
   "execution_count": 50,
   "outputs": [
    {
     "name": "stdout",
     "output_type": "stream",
     "text": [
      "/Users/sylviachadha/Desktop/Thesis/Datasets\n",
      "   time     value\n",
      "0  0.00  0.000000\n",
      "1  0.01  2.938926\n",
      "2  0.02  4.755283\n",
      "3  0.03  4.755283\n",
      "4  0.04  2.938926\n",
      "101\n"
     ]
    }
   ],
   "source": [
    "# Step 2 Check working directory and read dataset\n",
    "# --------------------------------------------------\n",
    "\n",
    "wd = os.getcwd()\n",
    "print(wd)\n",
    "os.chdir('/Users/sylviachadha/Desktop/Thesis/Datasets')\n",
    "\n",
    "df = pd.read_csv('sine_synthetic.csv')\n",
    "print(df.head())\n",
    "print(len(df))\n",
    "\n"
   ],
   "metadata": {
    "collapsed": false,
    "pycharm": {
     "name": "#%%\n"
    }
   }
  },
  {
   "cell_type": "code",
   "execution_count": 51,
   "outputs": [
    {
     "name": "stdout",
     "output_type": "stream",
     "text": [
      "70\n",
      "31\n"
     ]
    }
   ],
   "source": [
    "# Step 3 Split into train and test dataframe\n",
    "# ------------------------------------------------\n",
    "\n",
    "df_train, df_test = np.split(df, [int(0.7 * len(df))])\n",
    "\n",
    "# Length of dataframes\n",
    "df_train_len = len(df_train)\n",
    "df_test_len = len(df_test)\n",
    "\n",
    "print(df_train_len)\n",
    "print(df_test_len)\n"
   ],
   "metadata": {
    "collapsed": false,
    "pycharm": {
     "name": "#%%\n"
    }
   }
  },
  {
   "cell_type": "code",
   "execution_count": 52,
   "outputs": [],
   "source": [
    "# Step 4 Define Custom Functions Used\n",
    "# -------------------------------------------------\n",
    "\n",
    "\n",
    "def plot_sine_wave(y, legend):\n",
    "    ax = y.plot(figsize=(12, 6),\n",
    "                title='Sine Wave Amplitude = 5, Freq = 10Hz, Period = 0.1sec, Sampling freq-100Hz', label=legend)\n",
    "    xlabel = 'time-sec'\n",
    "    ylabel = 'amplitude'\n",
    "    ax.set(xlabel=xlabel, ylabel=ylabel)\n",
    "    plt.axhline(y=0, color='k')\n",
    "    return plt"
   ],
   "metadata": {
    "collapsed": false,
    "pycharm": {
     "name": "#%%\n"
    }
   }
  },
  {
   "cell_type": "code",
   "execution_count": 53,
   "outputs": [
    {
     "name": "stdout",
     "output_type": "stream",
     "text": [
      "70\n",
      "70\n",
      "Total_train_subsequences 7\n",
      "Total_train_points 70\n",
      "[ 0.00000000e+00  2.93892626e+00  4.75528258e+00  4.75528258e+00\n",
      "  2.93892626e+00  6.13000000e-16 -2.93892626e+00 -4.75528258e+00\n",
      " -4.75528258e+00 -2.93892626e+00]\n",
      "10\n",
      "[-1.23000000e-15  2.93892626e+00  4.75528258e+00  4.75528258e+00\n",
      "  2.93892626e+00  1.84000000e-15 -2.93892626e+00 -4.75528258e+00\n",
      " -4.75528258e+00 -2.93892626e+00]\n",
      "20\n",
      "[-2.45000000e-15  2.93892626e+00  4.75528258e+00  4.75528258e+00\n",
      "  2.93892626e+00  3.06000000e-15 -2.93892626e+00 -4.75528258e+00\n",
      " -4.75528258e+00 -2.93892626e+00]\n",
      "30\n",
      "[-3.68000000e-15  2.93892626e+00  4.75528258e+00  4.75528258e+00\n",
      "  2.93892626e+00  4.29000000e-15 -2.93892626e+00 -4.75528258e+00\n",
      " -4.75528258e+00 -2.93892626e+00]\n",
      "40\n",
      "[-4.90000000e-15  2.93892626e+00  4.75528258e+00  4.75528258e+00\n",
      "  2.93892626e+00  5.51000000e-15 -2.93892626e+00 -4.75528258e+00\n",
      " -4.75528258e+00 -2.93892626e+00]\n",
      "50\n",
      "[-6.13000000e-15  2.93892626e+00  4.75528258e+00  4.75528258e+00\n",
      "  2.93892626e+00  3.09000000e-13 -2.93892626e+00 -4.75528258e+00\n",
      " -4.75528258e+00 -2.93892626e+00]\n",
      "60\n",
      "[-3.27000000e-13  2.93892626e+00  4.75528258e+00  4.75528258e+00\n",
      "  2.93892626e+00  3.10000000e-13 -2.93892626e+00 -4.75528258e+00\n",
      " -4.75528258e+00 -2.93892626e+00]\n",
      "70\n"
     ]
    }
   ],
   "source": [
    "# Step 5 Preparing train sequences\n",
    "# -------------------------------------------------\n",
    "\n",
    "train_seq = df_train['value']\n",
    "train_seq_array = (train_seq.to_numpy())\n",
    "\n",
    "print(len(train_seq))\n",
    "print(len(train_seq_array))\n",
    "\n",
    "n = 0\n",
    "step_size = 10\n",
    "\n",
    "total_subsequences = math.floor(len(train_seq_array) / step_size)\n",
    "print(\"Total_train_subsequences\", total_subsequences)\n",
    "total_data_points = total_subsequences * step_size\n",
    "print(\"Total_train_points\", total_data_points)\n",
    "\n",
    "array_tuple = []\n",
    "while n < total_data_points:\n",
    "    subsequence = (train_seq_array[n:n + step_size])\n",
    "    print(subsequence)\n",
    "    n = n + step_size\n",
    "    print(n)\n",
    "    array_tuple.append(subsequence)\n",
    "\n",
    "# Combining all sequences into 1 single train array\n",
    "# array_tuple = (array1, array2, array3)\n",
    "# arrays = np.vstack(array_tuple)\n",
    "\n",
    "train_X = np.vstack(array_tuple)\n",
    "\n"
   ],
   "metadata": {
    "collapsed": false,
    "pycharm": {
     "name": "#%%\n"
    }
   }
  },
  {
   "cell_type": "code",
   "execution_count": 54,
   "outputs": [
    {
     "name": "stdout",
     "output_type": "stream",
     "text": [
      "31\n",
      "31\n",
      "Total_test_subsequences 3\n",
      "Total_test_points 30\n",
      "[-3.28000000e-13  2.93892626e+00  4.75528258e+00  4.75528258e+00\n",
      "  2.93892626e+00  6.31000000e-13 -2.93892626e+00 -4.75528258e+00\n",
      " -4.75528258e+00 -2.93892626e+00]\n",
      "10\n",
      "[-6.14000000e-13  2.93892626e+00  4.75528258e+00  4.75528258e+00\n",
      "  3.00000000e+00  3.00000000e+00  3.00000000e+00  3.00000000e+00\n",
      "  7.00000000e+00 -2.93892626e+00]\n",
      "20\n",
      "[-6.15000000e-13  2.93892626e+00  4.75528258e+00  4.75528258e+00\n",
      "  2.93892626e+00  9.53000000e-13 -2.93892626e+00 -4.75528258e+00\n",
      " -4.75528258e+00 -2.93892626e+00]\n",
      "30\n"
     ]
    }
   ],
   "source": [
    "# Step 6 Preparing test sequences\n",
    "# -------------------------------------------------\n",
    "\n",
    "test_seq = df_test['value']\n",
    "test_seq_array = (test_seq.to_numpy())\n",
    "\n",
    "print(len(test_seq))\n",
    "print(len(test_seq_array))\n",
    "# Need to ensure that it is taking first 10 points only\n",
    "\n",
    "n = 0\n",
    "step_size = 10\n",
    "\n",
    "total_subsequences_test = math.floor(len(test_seq_array) / step_size)\n",
    "print(\"Total_test_subsequences\", total_subsequences_test)\n",
    "total_data_points_test = total_subsequences_test * step_size\n",
    "print(\"Total_test_points\", total_data_points_test)\n",
    "\n",
    "# So choose to create test sequences only with those many points\n",
    "\n",
    "array_tuple = []\n",
    "while n < total_data_points_test:\n",
    "    subsequence_test = (test_seq_array[n:n + step_size])\n",
    "    print(subsequence_test)\n",
    "    n = n + step_size\n",
    "    print(n)\n",
    "    array_tuple.append(subsequence_test)\n",
    "\n",
    "test_X = np.vstack(array_tuple)\n",
    "\n"
   ],
   "metadata": {
    "collapsed": false,
    "pycharm": {
     "name": "#%%\n"
    }
   }
  },
  {
   "cell_type": "code",
   "execution_count": 55,
   "outputs": [
    {
     "data": {
      "text/plain": "<Figure size 864x432 with 1 Axes>",
      "image/png": "[encoded data removed]"
     },
     "metadata": {
      "needs_background": "light"
     },
     "output_type": "display_data"
    }
   ],
   "source": [
    "# Step 7 Visualize data with anomaly\n",
    "# ----------------------------------------------------------------------------------\n",
    "\n",
    "zz = plot_sine_wave(df['value'], \"\")\n",
    "plt.show()\n"
   ],
   "metadata": {
    "collapsed": false,
    "pycharm": {
     "name": "#%%\n"
    }
   }
  },
  {
   "cell_type": "code",
   "execution_count": 56,
   "outputs": [
    {
     "name": "stdout",
     "output_type": "stream",
     "text": [
      "Model: \"model_2\"\n",
      "_________________________________________________________________\n",
      "Layer (type)                 Output Shape              Param #   \n",
      "=================================================================\n",
      "input_3 (InputLayer)         [(None, 10)]              0         \n",
      "_________________________________________________________________\n",
      "dense_16 (Dense)             (None, 1500)              16500     \n",
      "_________________________________________________________________\n",
      "dense_17 (Dense)             (None, 1000)              1501000   \n",
      "_________________________________________________________________\n",
      "dense_18 (Dense)             (None, 500)               500500    \n",
      "_________________________________________________________________\n",
      "dense_19 (Dense)             (None, 5)                 2505      \n",
      "_________________________________________________________________\n",
      "dense_20 (Dense)             (None, 500)               3000      \n",
      "_________________________________________________________________\n",
      "dense_21 (Dense)             (None, 1000)              501000    \n",
      "_________________________________________________________________\n",
      "dense_22 (Dense)             (None, 1500)              1501500   \n",
      "_________________________________________________________________\n",
      "dense_23 (Dense)             (None, 10)                15010     \n",
      "=================================================================\n",
      "Total params: 4,041,015\n",
      "Trainable params: 4,041,015\n",
      "Non-trainable params: 0\n",
      "_________________________________________________________________\n",
      "Epoch 1/30\n",
      "1/1 [==============================] - 0s 457ms/step - loss: 12.4472 - mse: 12.4472\b\b\b\b\b\b\b\b\b\b\b\b\b\b\b\b\b\b\b\b\b\b\b\b\b\b\b\b\b\b\b\b\b\b\b\b\b\b\b\b\b\b\b\b\b\b\b\b\b\b\b\b\b\b\b\b\b\b\b\b\b\b\b\b\b\b\b\b\b\b\b\n",
      "Epoch 2/30\n",
      "1/1 [==============================] - 0s 16ms/step - loss: 11.3173 - mse: 11.3173\b\b\b\b\b\b\b\b\b\b\b\b\b\b\b\b\b\b\b\b\b\b\b\b\b\b\b\b\b\b\b\b\b\b\b\b\b\b\b\b\b\b\b\b\b\b\b\b\b\b\b\b\b\b\b\b\b\b\b\b\b\b\b\b\b\b\b\b\b\b\b\b\n",
      "Epoch 3/30\n",
      "1/1 [==============================] - 0s 33ms/step - loss: 9.2511 - mse: 9.2511\b\b\b\b\b\b\b\b\b\b\b\b\b\b\b\b\b\b\b\b\b\b\b\b\b\b\b\b\b\b\b\b\b\b\b\b\b\b\b\b\b\b\b\b\b\b\b\b\b\b\b\b\b\b\b\b\b\b\b\b\b\b\b\b\b\b\b\b\b\b\n",
      "Epoch 4/30\n",
      "1/1 [==============================] - 0s 47ms/step - loss: 6.3984 - mse: 6.3984\b\b\b\b\b\b\b\b\b\b\b\b\b\b\b\b\b\b\b\b\b\b\b\b\b\b\b\b\b\b\b\b\b\b\b\b\b\b\b\b\b\b\b\b\b\b\b\b\b\b\b\b\b\b\b\b\b\b\b\b\b\b\b\b\b\b\b\b\b\b\n",
      "Epoch 5/30\n",
      "1/1 [==============================] - 0s 21ms/step - loss: 3.3179 - mse: 3.3179\b\b\b\b\b\b\b\b\b\b\b\b\b\b\b\b\b\b\b\b\b\b\b\b\b\b\b\b\b\b\b\b\b\b\b\b\b\b\b\b\b\b\b\b\b\b\b\b\b\b\b\b\b\b\b\b\b\b\b\b\b\b\b\b\b\b\b\b\b\b\n",
      "Epoch 6/30\n",
      "1/1 [==============================] - 0s 14ms/step - loss: 0.8600 - mse: 0.8600\b\b\b\b\b\b\b\b\b\b\b\b\b\b\b\b\b\b\b\b\b\b\b\b\b\b\b\b\b\b\b\b\b\b\b\b\b\b\b\b\b\b\b\b\b\b\b\b\b\b\b\b\b\b\b\b\b\b\b\b\b\b\b\b\b\b\b\b\b\b\n",
      "Epoch 7/30\n",
      "1/1 [==============================] - 0s 16ms/step - loss: 0.4847 - mse: 0.4847\b\b\b\b\b\b\b\b\b\b\b\b\b\b\b\b\b\b\b\b\b\b\b\b\b\b\b\b\b\b\b\b\b\b\b\b\b\b\b\b\b\b\b\b\b\b\b\b\b\b\b\b\b\b\b\b\b\b\b\b\b\b\b\b\b\b\b\b\b\b\n",
      "Epoch 8/30\n",
      "1/1 [==============================] - 0s 16ms/step - loss: 2.1968 - mse: 2.1968\b\b\b\b\b\b\b\b\b\b\b\b\b\b\b\b\b\b\b\b\b\b\b\b\b\b\b\b\b\b\b\b\b\b\b\b\b\b\b\b\b\b\b\b\b\b\b\b\b\b\b\b\b\b\b\b\b\b\b\b\b\b\b\b\b\b\b\b\b\b\n",
      "Epoch 9/30\n",
      "1/1 [==============================] - 0s 17ms/step - loss: 2.3215 - mse: 2.3215\b\b\b\b\b\b\b\b\b\b\b\b\b\b\b\b\b\b\b\b\b\b\b\b\b\b\b\b\b\b\b\b\b\b\b\b\b\b\b\b\b\b\b\b\b\b\b\b\b\b\b\b\b\b\b\b\b\b\b\b\b\b\b\b\b\b\b\b\b\b\n",
      "Epoch 10/30\n",
      "1/1 [==============================] - 0s 28ms/step - loss: 1.1781 - mse: 1.1781\b\b\b\b\b\b\b\b\b\b\b\b\b\b\b\b\b\b\b\b\b\b\b\b\b\b\b\b\b\b\b\b\b\b\b\b\b\b\b\b\b\b\b\b\b\b\b\b\b\b\b\b\b\b\b\b\b\b\b\b\b\b\b\b\b\b\b\b\b\b\n",
      "Epoch 11/30\n",
      "1/1 [==============================] - 0s 14ms/step - loss: 0.2663 - mse: 0.2663\b\b\b\b\b\b\b\b\b\b\b\b\b\b\b\b\b\b\b\b\b\b\b\b\b\b\b\b\b\b\b\b\b\b\b\b\b\b\b\b\b\b\b\b\b\b\b\b\b\b\b\b\b\b\b\b\b\b\b\b\b\b\b\b\b\b\b\b\b\b\n",
      "Epoch 12/30\n",
      "1/1 [==============================] - 0s 14ms/step - loss: 0.0868 - mse: 0.0868\b\b\b\b\b\b\b\b\b\b\b\b\b\b\b\b\b\b\b\b\b\b\b\b\b\b\b\b\b\b\b\b\b\b\b\b\b\b\b\b\b\b\b\b\b\b\b\b\b\b\b\b\b\b\b\b\b\b\b\b\b\b\b\b\b\b\b\b\b\b\n",
      "Epoch 13/30\n",
      "1/1 [==============================] - 0s 17ms/step - loss: 0.3878 - mse: 0.3878\b\b\b\b\b\b\b\b\b\b\b\b\b\b\b\b\b\b\b\b\b\b\b\b\b\b\b\b\b\b\b\b\b\b\b\b\b\b\b\b\b\b\b\b\b\b\b\b\b\b\b\b\b\b\b\b\b\b\b\b\b\b\b\b\b\b\b\b\b\b\n",
      "Epoch 14/30\n",
      "1/1 [==============================] - 0s 14ms/step - loss: 0.7757 - mse: 0.7757\b\b\b\b\b\b\b\b\b\b\b\b\b\b\b\b\b\b\b\b\b\b\b\b\b\b\b\b\b\b\b\b\b\b\b\b\b\b\b\b\b\b\b\b\b\b\b\b\b\b\b\b\b\b\b\b\b\b\b\b\b\b\b\b\b\b\b\b\b\b\n",
      "Epoch 15/30\n",
      "1/1 [==============================] - 0s 19ms/step - loss: 1.0167 - mse: 1.0167\b\b\b\b\b\b\b\b\b\b\b\b\b\b\b\b\b\b\b\b\b\b\b\b\b\b\b\b\b\b\b\b\b\b\b\b\b\b\b\b\b\b\b\b\b\b\b\b\b\b\b\b\b\b\b\b\b\b\b\b\b\b\b\b\b\b\b\b\b\b\n",
      "Epoch 16/30\n",
      "1/1 [==============================] - 0s 16ms/step - loss: 1.0386 - mse: 1.0386\b\b\b\b\b\b\b\b\b\b\b\b\b\b\b\b\b\b\b\b\b\b\b\b\b\b\b\b\b\b\b\b\b\b\b\b\b\b\b\b\b\b\b\b\b\b\b\b\b\b\b\b\b\b\b\b\b\b\b\b\b\b\b\b\b\b\b\b\b\b\n",
      "Epoch 17/30\n",
      "1/1 [==============================] - 0s 15ms/step - loss: 0.8653 - mse: 0.8653\b\b\b\b\b\b\b\b\b\b\b\b\b\b\b\b\b\b\b\b\b\b\b\b\b\b\b\b\b\b\b\b\b\b\b\b\b\b\b\b\b\b\b\b\b\b\b\b\b\b\b\b\b\b\b\b\b\b\b\b\b\b\b\b\b\b\b\b\b\b\n",
      "Epoch 18/30\n",
      "1/1 [==============================] - 0s 14ms/step - loss: 0.5701 - mse: 0.5701\b\b\b\b\b\b\b\b\b\b\b\b\b\b\b\b\b\b\b\b\b\b\b\b\b\b\b\b\b\b\b\b\b\b\b\b\b\b\b\b\b\b\b\b\b\b\b\b\b\b\b\b\b\b\b\b\b\b\b\b\b\b\b\b\b\b\b\b\b\b\n",
      "Epoch 19/30\n",
      "1/1 [==============================] - 0s 29ms/step - loss: 0.2582 - mse: 0.2582\b\b\b\b\b\b\b\b\b\b\b\b\b\b\b\b\b\b\b\b\b\b\b\b\b\b\b\b\b\b\b\b\b\b\b\b\b\b\b\b\b\b\b\b\b\b\b\b\b\b\b\b\b\b\b\b\b\b\b\b\b\b\b\b\b\b\b\b\b\b\n",
      "Epoch 20/30\n",
      "1/1 [==============================] - 0s 14ms/step - loss: 0.0463 - mse: 0.0463\b\b\b\b\b\b\b\b\b\b\b\b\b\b\b\b\b\b\b\b\b\b\b\b\b\b\b\b\b\b\b\b\b\b\b\b\b\b\b\b\b\b\b\b\b\b\b\b\b\b\b\b\b\b\b\b\b\b\b\b\b\b\b\b\b\b\b\b\b\b\n",
      "Epoch 21/30\n",
      "1/1 [==============================] - 0s 20ms/step - loss: 0.0210 - mse: 0.0210\b\b\b\b\b\b\b\b\b\b\b\b\b\b\b\b\b\b\b\b\b\b\b\b\b\b\b\b\b\b\b\b\b\b\b\b\b\b\b\b\b\b\b\b\b\b\b\b\b\b\b\b\b\b\b\b\b\b\b\b\b\b\b\b\b\b\b\b\b\b\n",
      "Epoch 22/30\n",
      "1/1 [==============================] - 0s 18ms/step - loss: 0.1714 - mse: 0.1714\b\b\b\b\b\b\b\b\b\b\b\b\b\b\b\b\b\b\b\b\b\b\b\b\b\b\b\b\b\b\b\b\b\b\b\b\b\b\b\b\b\b\b\b\b\b\b\b\b\b\b\b\b\b\b\b\b\b\b\b\b\b\b\b\b\b\b\b\b\b\n",
      "Epoch 23/30\n",
      "1/1 [==============================] - 0s 17ms/step - loss: 0.3616 - mse: 0.3616\b\b\b\b\b\b\b\b\b\b\b\b\b\b\b\b\b\b\b\b\b\b\b\b\b\b\b\b\b\b\b\b\b\b\b\b\b\b\b\b\b\b\b\b\b\b\b\b\b\b\b\b\b\b\b\b\b\b\b\b\b\b\b\b\b\b\b\b\b\b\n",
      "Epoch 24/30\n",
      "1/1 [==============================] - 0s 18ms/step - loss: 0.4291 - mse: 0.4291\b\b\b\b\b\b\b\b\b\b\b\b\b\b\b\b\b\b\b\b\b\b\b\b\b\b\b\b\b\b\b\b\b\b\b\b\b\b\b\b\b\b\b\b\b\b\b\b\b\b\b\b\b\b\b\b\b\b\b\b\b\b\b\b\b\b\b\b\b\b\n",
      "Epoch 25/30\n",
      "1/1 [==============================] - 0s 18ms/step - loss: 0.3325 - mse: 0.3325\b\b\b\b\b\b\b\b\b\b\b\b\b\b\b\b\b\b\b\b\b\b\b\b\b\b\b\b\b\b\b\b\b\b\b\b\b\b\b\b\b\b\b\b\b\b\b\b\b\b\b\b\b\b\b\b\b\b\b\b\b\b\b\b\b\b\b\b\b\b\n",
      "Epoch 26/30\n",
      "1/1 [==============================] - 0s 17ms/step - loss: 0.1666 - mse: 0.1666\b\b\b\b\b\b\b\b\b\b\b\b\b\b\b\b\b\b\b\b\b\b\b\b\b\b\b\b\b\b\b\b\b\b\b\b\b\b\b\b\b\b\b\b\b\b\b\b\b\b\b\b\b\b\b\b\b\b\b\b\b\b\b\b\b\b\b\b\b\b\n",
      "Epoch 27/30\n",
      "1/1 [==============================] - 0s 16ms/step - loss: 0.0468 - mse: 0.0468\b\b\b\b\b\b\b\b\b\b\b\b\b\b\b\b\b\b\b\b\b\b\b\b\b\b\b\b\b\b\b\b\b\b\b\b\b\b\b\b\b\b\b\b\b\b\b\b\b\b\b\b\b\b\b\b\b\b\b\b\b\b\b\b\b\b\b\b\b\b\n",
      "Epoch 28/30\n",
      "1/1 [==============================] - 0s 15ms/step - loss: 0.0228 - mse: 0.0228\b\b\b\b\b\b\b\b\b\b\b\b\b\b\b\b\b\b\b\b\b\b\b\b\b\b\b\b\b\b\b\b\b\b\b\b\b\b\b\b\b\b\b\b\b\b\b\b\b\b\b\b\b\b\b\b\b\b\b\b\b\b\b\b\b\b\b\b\b\b\n",
      "Epoch 29/30\n",
      "1/1 [==============================] - 0s 26ms/step - loss: 0.0725 - mse: 0.0725\b\b\b\b\b\b\b\b\b\b\b\b\b\b\b\b\b\b\b\b\b\b\b\b\b\b\b\b\b\b\b\b\b\b\b\b\b\b\b\b\b\b\b\b\b\b\b\b\b\b\b\b\b\b\b\b\b\b\b\b\b\b\b\b\b\b\b\b\b\b\n",
      "Epoch 30/30\n",
      "1/1 [==============================] - 0s 17ms/step - loss: 0.1418 - mse: 0.1418\b\b\b\b\b\b\b\b\b\b\b\b\b\b\b\b\b\b\b\b\b\b\b\b\b\b\b\b\b\b\b\b\b\b\b\b\b\b\b\b\b\b\b\b\b\b\b\b\b\b\b\b\b\b\b\b\b\b\b\b\b\b\b\b\b\b\b\b\b\b\n"
     ]
    }
   ],
   "source": [
    "# Step 8 Autoencoder Neural N/W Learning / Model Training only on only Normal data\n",
    "# Steps - a. Define architecture-> b. compile-> c. fit model on training data\n",
    "# ----------------------------------------------------------------------------------\n",
    "\n",
    "# 1 shape has 10 data points so when we feed the sequence of 10 data points\n",
    "# Every data point goes as a feature now\n",
    "\n",
    "# a. Model Architecture\n",
    "# input layer\n",
    "input_layer = Input(shape=(10,))\n",
    "\n",
    "# encoding architecture\n",
    "encode_layer1 = Dense(1500, activation='relu')(input_layer)\n",
    "encode_layer2 = Dense(1000, activation='relu')(encode_layer1)\n",
    "encode_layer3 = Dense(500, activation='relu')(encode_layer2)\n",
    "\n",
    "# latent view\n",
    "latent_view = Dense(5, activation='sigmoid')(encode_layer3)\n",
    "\n",
    "# decoding architecture\n",
    "decode_layer1 = Dense(500, activation='relu')(latent_view)\n",
    "decode_layer2 = Dense(1000, activation='relu')(decode_layer1)\n",
    "decode_layer3 = Dense(1500, activation='relu')(decode_layer2)\n",
    "\n",
    "# output layer\n",
    "output_layer = Dense(10)(decode_layer3)\n",
    "\n",
    "model = Model(input_layer, output_layer)\n",
    "\n",
    "model.summary()\n",
    "\n",
    "# b. Model Compilation\n",
    "\n",
    "model.compile(optimizer='adam',\n",
    "              loss='mse',\n",
    "              metrics=['mse'])\n",
    "\n",
    "nb_epoch = 30\n",
    "learning_rate = 0.1\n",
    "\n",
    "# c. Model fit on training data (X,X as reconstruction concept)\n",
    "ae_nn = model.fit(train_X, train_X,\n",
    "                  epochs=nb_epoch,\n",
    "                  shuffle=False,\n",
    "                  verbose=1)\n",
    "\n"
   ],
   "metadata": {
    "collapsed": false,
    "pycharm": {
     "name": "#%%\n"
    }
   }
  },
  {
   "cell_type": "code",
   "execution_count": 57,
   "outputs": [
    {
     "name": "stdout",
     "output_type": "stream",
     "text": [
      "70\n",
      "70\n"
     ]
    }
   ],
   "source": [
    "# Step 9 AE prediction on Training data (which is only normal data)\n",
    "# ---------------------------------------------------------------------------\n",
    "\n",
    "# Predicted and actual arrays, need to flatten both because both are sequences of length 10\n",
    "pred = model.predict(train_X)\n",
    "pred_train = pred.flatten()\n",
    "\n",
    "actual_train = train_X.flatten()\n",
    "\n",
    "print(len(pred_train))\n",
    "print(len(actual_train))\n",
    "\n",
    "\n"
   ],
   "metadata": {
    "collapsed": false,
    "pycharm": {
     "name": "#%%\n"
    }
   }
  },
  {
   "cell_type": "code",
   "execution_count": 58,
   "outputs": [
    {
     "name": "stdout",
     "output_type": "stream",
     "text": [
      "70\n",
      "Index(['0_x', '0_y'], dtype='object')\n",
      "None\n",
      "   predicted_train  actual_train\n",
      "0         0.014284      0.000000\n",
      "1         2.610230      2.938926\n",
      "2         4.182856      4.755283\n",
      "3         4.102333      4.755283\n",
      "4         2.495841      2.938926\n"
     ]
    }
   ],
   "source": [
    "# Step 10 Change predicted and actual arrays to dataframe to see the plot\n",
    "# and view actual & predicted values side by side by merging into 1 df\n",
    "# ---------------------------------------------------------------------------\n",
    "\n",
    "predicted_df = pd.DataFrame(pred_train)\n",
    "\n",
    "actual_df = pd.DataFrame(actual_train)\n",
    "\n",
    "# Merge two dataframes based on index\n",
    "\n",
    "mergedDf = predicted_df.merge(actual_df, left_index=True, right_index=True)\n",
    "print(len(mergedDf))\n",
    "mergedDf\n",
    "print(mergedDf.columns)\n",
    "print(mergedDf.rename(columns={'0_x': 'predicted_train', '0_y': 'actual_train'}, inplace=True))\n",
    "print(mergedDf.head())\n"
   ],
   "metadata": {
    "collapsed": false,
    "pycharm": {
     "name": "#%%\n"
    }
   }
  },
  {
   "cell_type": "code",
   "execution_count": 59,
   "outputs": [
    {
     "data": {
      "text/plain": "<Figure size 432x288 with 1 Axes>",
      "image/png": "[encoded data removed]"
     },
     "metadata": {
      "needs_background": "light"
     },
     "output_type": "display_data"
    }
   ],
   "source": [
    "# Step 11 - Qualitative Check on Training Data\n",
    "# Plot to see how well reconstructed data fits on actual data\n",
    "# ---------------------------------------------------------------------------\n",
    "\n",
    "# Add index which is df_train['time'] to merged df inorder to plot\n",
    "mergedDf.index = df_train['time']\n",
    "mergedDf.plot()\n",
    "plt.show()\n"
   ],
   "metadata": {
    "collapsed": false,
    "pycharm": {
     "name": "#%%\n"
    }
   }
  },
  {
   "cell_type": "code",
   "execution_count": 60,
   "outputs": [
    {
     "name": "stdout",
     "output_type": "stream",
     "text": [
      "mae for training data is 0.377909458906096\n",
      "mse for training data is 0.18368157451507444\n",
      "70\n",
      "7\n",
      "[3.7790945060402463, 3.7790945060402463, 3.7790945060402463, 3.779094506040246, 3.7790945060402463, 3.779094506039944]\n",
      "Mean Training window error is 3.7790945060401957\n",
      "      predicted_train  actual_train  window_errors\n",
      "time                                              \n",
      "0.00         0.014284      0.000000       0.014284\n",
      "0.01         2.610230      2.938926       0.328696\n",
      "0.02         4.182856      4.755283       0.572427\n",
      "0.03         4.102333      4.755283       0.652950\n",
      "0.04         2.495841      2.938926       0.443085\n"
     ]
    }
   ],
   "source": [
    "# Step 12 - Quantitative Check on Training Data\n",
    "# ---------------------------------------------------------------------------\n",
    "# Average mae or mse for the whole training data\n",
    "# np.average to get 1 value for whole training set\n",
    "mae_train = np.average(np.abs(mergedDf['actual_train'] - mergedDf['predicted_train']))\n",
    "mse_train = np.average((mergedDf['actual_train'] - mergedDf['predicted_train']) ** 2)\n",
    "\n",
    "print(\"mae for training data is\", mae_train)\n",
    "print(\"mse for training data is\", mse_train)\n",
    "\n",
    "# Individual absolute error calculation for all points in merged df\n",
    "mergedDf['window_errors'] = abs(mergedDf['predicted_train'] - mergedDf['actual_train'])\n",
    "\n",
    "# Sum of prediction errors on sliding/ fixed windows in merged df\n",
    "\n",
    "n_steps = 10\n",
    "\n",
    "total_train_points = len(mergedDf)\n",
    "print(total_train_points)\n",
    "\n",
    "total_train_cycles = round(total_train_points / n_steps)\n",
    "print(total_train_cycles)\n",
    "\n",
    "n = 0\n",
    "Cycle_errors = list()\n",
    "for i in range(1, total_train_cycles):\n",
    "    i_train_cycle = mergedDf['window_errors'].iloc[n:n + n_steps]\n",
    "    n = n + n_steps\n",
    "    Sum_error_i_Cycle = sum(i_train_cycle)\n",
    "    Cycle_errors.append(Sum_error_i_Cycle)\n",
    "\n",
    "print(Cycle_errors)\n",
    "Mean_window_error = statistics.mean(Cycle_errors)\n",
    "print(\"Mean Training window error is\", Mean_window_error)\n",
    "print(mergedDf.head())"
   ],
   "metadata": {
    "collapsed": false,
    "pycharm": {
     "name": "#%%\n"
    }
   }
  },
  {
   "cell_type": "code",
   "execution_count": 61,
   "outputs": [
    {
     "name": "stdout",
     "output_type": "stream",
     "text": [
      "std dev 1.234283625740806e-13\n",
      "window_threshold_u 3.779094506040566\n",
      "window_threshold_l 3.7790945060398253\n"
     ]
    }
   ],
   "source": [
    "# Step 12 - Extend Quantitative check\n",
    "# 3 Standard deviation concept\n",
    "window_std = statistics.stdev(Cycle_errors, xbar = Mean_window_error)\n",
    "print(\"std dev\", window_std)\n",
    "window_threshold_u = Mean_window_error + (window_std*3)\n",
    "window_threshold_l = Mean_window_error - (window_std*3)\n",
    "print(\"window_threshold_u\", window_threshold_u)\n",
    "print(\"window_threshold_l\", window_threshold_l)\n",
    "\n"
   ],
   "metadata": {
    "collapsed": false,
    "pycharm": {
     "name": "#%%\n"
    }
   }
  },
  {
   "cell_type": "code",
   "execution_count": 62,
   "outputs": [
    {
     "name": "stdout",
     "output_type": "stream",
     "text": [
      "30\n",
      "30\n"
     ]
    }
   ],
   "source": [
    "# Step 13 - Neural N/W reconstruction on Test Data which contains Normal as well\n",
    "# as abnormal pattern\n",
    "# Expectation/Hypothesis - Abnormal pattern will give higher reconstruction error\n",
    "# -------------------------------------------------------------------------------\n",
    "\n",
    "# Predicted and actual arrays, need to flatten both because both are sequences of length 10\n",
    "pred1 = model.predict(test_X)\n",
    "pred_test = pred1.flatten()\n",
    "\n",
    "actual_test = test_X.flatten()\n",
    "\n",
    "print(len(pred_test))\n",
    "print(len(actual_test))\n",
    "\n"
   ],
   "metadata": {
    "collapsed": false,
    "pycharm": {
     "name": "#%%\n"
    }
   }
  },
  {
   "cell_type": "code",
   "execution_count": 63,
   "outputs": [
    {
     "name": "stdout",
     "output_type": "stream",
     "text": [
      "30\n",
      "Index(['0_x', '0_y'], dtype='object')\n",
      "None\n",
      "   predicted_test   actual_test\n",
      "0        0.014284 -3.280000e-13\n",
      "1        2.610230  2.938926e+00\n",
      "2        4.182856  4.755283e+00\n",
      "3        4.102333  4.755283e+00\n",
      "4        2.495841  2.938926e+00\n"
     ]
    }
   ],
   "source": [
    "# Step 14 - Change predicted and actual arrays to dataframe to see the plot\n",
    "# ---------------------------------------------------------------------------\n",
    "predicted_df_test = pd.DataFrame(pred_test)\n",
    "actual_df_test = pd.DataFrame(actual_test)\n",
    "\n",
    "# Merge two dataframes based on index\n",
    "\n",
    "mergedDf_test = predicted_df_test.merge(actual_df_test, left_index=True, right_index=True)\n",
    "print(len(mergedDf_test))\n",
    "mergedDf_test\n",
    "print(mergedDf_test.columns)\n",
    "print(mergedDf_test.rename(columns={'0_x': 'predicted_test', '0_y': 'actual_test'}, inplace=True))\n",
    "print(mergedDf_test.head())\n",
    "\n"
   ],
   "metadata": {
    "collapsed": false,
    "pycharm": {
     "name": "#%%\n"
    }
   }
  },
  {
   "cell_type": "code",
   "execution_count": 64,
   "outputs": [
    {
     "data": {
      "text/plain": "<Figure size 432x288 with 1 Axes>",
      "image/png": "[encoded data removed]"
     },
     "metadata": {
      "needs_background": "light"
     },
     "output_type": "display_data"
    }
   ],
   "source": [
    "# Step 15 - Qualitative Check on Test Data\n",
    "# ---------------------------------------------------------------------------\n",
    "# Plot to see how well predicted test data fits on actual test data\n",
    "#  new change\n",
    "if len(df_test) != len(mergedDf_test):\n",
    "    diff = (len(df_test) - len(mergedDf_test))\n",
    "    new_df_test = df_test[:-diff]\n",
    "\n",
    "\n",
    "mergedDf_test.index = new_df_test['time']\n",
    "mergedDf_test.plot()\n",
    "plt.show()\n"
   ],
   "metadata": {
    "collapsed": false,
    "pycharm": {
     "name": "#%%\n"
    }
   }
  },
  {
   "cell_type": "code",
   "execution_count": 66,
   "outputs": [
    {
     "name": "stdout",
     "output_type": "stream",
     "text": [
      "      predicted_test   actual_test  window_errors\n",
      "time                                             \n",
      "0.70        0.014284 -3.280000e-13       0.014284\n",
      "0.71        2.610230  2.938926e+00       0.328696\n",
      "0.72        4.182856  4.755283e+00       0.572426\n",
      "0.73        4.102333  4.755283e+00       0.652950\n",
      "0.74        2.495841  2.938926e+00       0.443085\n",
      "0.75        0.034448  6.310000e-13       0.034448\n",
      "0.76       -2.491291 -2.938926e+00       0.447635\n",
      "0.77       -4.222757 -4.755283e+00       0.532526\n",
      "0.78       -4.309677 -4.755283e+00       0.445605\n",
      "0.79       -2.631489 -2.938926e+00       0.307437\n",
      "0.80        0.014284 -6.140000e-13       0.014284\n",
      "0.81        2.610227  2.938926e+00       0.328699\n",
      "0.82        4.182851  4.755283e+00       0.572432\n",
      "0.83        4.102327  4.755283e+00       0.652955\n",
      "0.84        2.495837  3.000000e+00       0.504163\n",
      "0.85        0.034448  3.000000e+00       2.965552\n",
      "0.86       -2.491288  3.000000e+00       5.491288\n",
      "0.87       -4.222752  3.000000e+00       7.222752\n",
      "0.88       -4.309672  7.000000e+00      11.309672\n",
      "0.89       -2.631485 -2.938926e+00       0.307441\n",
      "0.90        0.014284 -6.150000e-13       0.014284\n",
      "0.91        2.610230  2.938926e+00       0.328696\n",
      "0.92        4.182856  4.755283e+00       0.572426\n",
      "0.93        4.102333  4.755283e+00       0.652950\n",
      "0.94        2.495841  2.938926e+00       0.443085\n",
      "0.95        0.034448  9.530000e-13       0.034448\n",
      "0.96       -2.491291 -2.938926e+00       0.447635\n",
      "0.97       -4.222757 -4.755283e+00       0.532526\n",
      "0.98       -4.309677 -4.755283e+00       0.445605\n",
      "0.99       -2.631489 -2.938926e+00       0.307437\n",
      "Anomalous Pattern Detected with sum of prediction errors in anomalous window as 29.369237083469216\n",
      "Anomalous window no  2\n",
      "Total Patterns detected  1\n"
     ]
    }
   ],
   "source": [
    "# Step 16 - Quantitative Check\n",
    "# ---------------------------------------------------------------------------\n",
    "\n",
    "# Individual absolute error calculation for each test point\n",
    "mergedDf_test['window_errors'] = abs(mergedDf_test['predicted_test'] - mergedDf_test['actual_test'])\n",
    "print(mergedDf_test)\n",
    "\n",
    "# Sum of prediction errors on fixed windows of step size 10\n",
    "\n",
    "# From test data preparation we know total subsequences and total data points\n",
    "# and n_steps\n",
    "# total_subsequences_test = math.floor(len(test_seq_array) / step_size)\n",
    "# print(\"Total_test_subsequences\", total_subsequences_test)\n",
    "\n",
    "n = 0\n",
    "Cycle_count = 0\n",
    "for i in range(1, total_subsequences_test):\n",
    "    i_test_cycle = mergedDf_test['window_errors'].iloc[n:n + n_steps]\n",
    "    n = n + n_steps\n",
    "    Sum_error_i_Cycle = sum(i_test_cycle)\n",
    "    if Sum_error_i_Cycle > Mean_window_error:  # Condition to declare anomaly\n",
    "        Cycle_count = Cycle_count + 1\n",
    "        print(\"Anomalous Pattern Detected with sum of prediction errors in anomalous window as\", Sum_error_i_Cycle)\n",
    "        print(\"Anomalous window no \", i)\n",
    "\n",
    "print('Total Patterns detected ', Cycle_count)\n"
   ],
   "metadata": {
    "collapsed": false,
    "pycharm": {
     "name": "#%%\n"
    }
   }
  }
 ],
 "metadata": {
  "kernelspec": {
   "display_name": "Python 3",
   "language": "python",
   "name": "python3"
  },
  "language_info": {
   "codemirror_mode": {
    "name": "ipython",
    "version": 2
   },
   "file_extension": ".py",
   "mimetype": "text/x-python",
   "name": "python",
   "nbconvert_exporter": "python",
   "pygments_lexer": "ipython2",
   "version": "2.7.6"
  }
 },
 "nbformat": 4,
 "nbformat_minor": 0
}